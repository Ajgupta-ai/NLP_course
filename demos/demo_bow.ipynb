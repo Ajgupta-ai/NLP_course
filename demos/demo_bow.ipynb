{
  "nbformat": 4,
  "nbformat_minor": 0,
  "metadata": {
    "kernelspec": {
      "name": "python3",
      "display_name": "Python 3"
    },
    "colab": {
      "name": "imdb_classification.ipynb",
      "provenance": []
    }
  },
  "cells": [
    {
      "cell_type": "markdown",
      "metadata": {
        "id": "EMxXcHQoRHMm"
      },
      "source": [
        "# Bag of Words Demo"
      ]
    },
    {
      "cell_type": "code",
      "metadata": {
        "id": "yyYgilaJRHMv"
      },
      "source": [
        "import pandas as pd\n",
        "df = pd.DataFrame(data={'id': [1, 2, 3],\n",
        "                        'mytext': ['The dog ate the homework.', 'The cat ate the sandwich.', 'The dog ate the homework and the sandwich.']})\n",
        "df"
      ],
      "execution_count": null,
      "outputs": []
    },
    {
      "cell_type": "code",
      "metadata": {
        "id": "VlByFKZXRHMw"
      },
      "source": [
        "from sklearn.feature_extraction.text import CountVectorizer\n",
        "\n",
        "vectorizer = CountVectorizer()\n",
        "vectorizer = vectorizer.fit(df['mytext'])"
      ],
      "execution_count": 47,
      "outputs": []
    },
    {
      "cell_type": "code",
      "metadata": {
        "id": "aaQ5Uu4oUBcF"
      },
      "source": [
        "bow = vectorizer.transform(df['mytext'])"
      ],
      "execution_count": 48,
      "outputs": []
    },
    {
      "cell_type": "code",
      "metadata": {
        "id": "PjD17m-2U3jK"
      },
      "source": [
        "print(bow)"
      ],
      "execution_count": null,
      "outputs": []
    },
    {
      "cell_type": "code",
      "metadata": {
        "id": "FTdLJvG9URWx"
      },
      "source": [
        "vectorizer.get_feature_names()"
      ],
      "execution_count": null,
      "outputs": []
    },
    {
      "cell_type": "code",
      "metadata": {
        "id": "3SmQEXevUZWY"
      },
      "source": [
        "bow_df = pd.DataFrame(bow.toarray(), columns=vectorizer.get_feature_names())\r\n",
        "bow_df"
      ],
      "execution_count": null,
      "outputs": []
    }
  ]
}