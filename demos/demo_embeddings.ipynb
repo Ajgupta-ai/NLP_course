{
 "cells": [
  {
   "cell_type": "markdown",
   "metadata": {},
   "source": [
    "# Embeddings Demo\n",
    "- Stephen W. Thomas\n",
    "- Used for MMA 865 and MMAI 891"
   ]
  },
  {
   "cell_type": "code",
   "execution_count": null,
   "metadata": {},
   "outputs": [],
   "source": [
    "import flair"
   ]
  },
  {
   "cell_type": "code",
   "execution_count": null,
   "metadata": {},
   "outputs": [],
   "source": [
    "from flair.embeddings import WordEmbeddings\n",
    "\n",
    "# GloVe embedding\n",
    "glove_embedding = WordEmbeddings('glove')\n",
    "\n",
    "# FastText embeddings over Web crawls\n",
    "crawl_embedding = WordEmbeddings('en-crawl')"
   ]
  },
  {
   "cell_type": "code",
   "execution_count": null,
   "metadata": {},
   "outputs": [],
   "source": [
    "# create sentence.\n",
    "sentence = Sentence('The grass is green and red .')\n",
    "\n",
    "# embed a sentence using glove.\n",
    "glove_embedding.embed(sentence)\n",
    "\n",
    "# now check out the embedded tokens.\n",
    "for token in sentence:\n",
    "    print(token)\n",
    "    print(token.embedding)"
   ]
  },
  {
   "cell_type": "code",
   "execution_count": null,
   "metadata": {},
   "outputs": [],
   "source": [
    "from scipy.spatial.distance import cosine\n",
    "\n",
    "def getCosine(word1, word2):\n",
    "\n",
    "    s1 = Sentence(word1)\n",
    "    s2 = Sentence(word2)\n",
    "\n",
    "    glove_embedding.embed(s1)\n",
    "    glove_embedding.embed(s2)\n",
    "\n",
    "    a = s1[0].embedding\n",
    "    b = s2[0].embedding\n",
    "    print(\"{:10s} and {:10s}: {:.3f}\".format(word1, word2, cosine(a, b)))\n",
    "    \n",
    "    \n",
    "getCosine('queen', 'king')\n",
    "getCosine('queen', 'princess')\n",
    "getCosine('queen', 'aardvark')\n",
    "getCosine('queen', 'nuclear')\n",
    "\n",
    "\n",
    "getCosine('fire', 'hot')\n",
    "getCosine('fire', 'water')\n",
    "getCosine('fire', 'melt')\n",
    "getCosine('fire', 'cheese')\n",
    "getCosine('fire', 'elephant')\n",
    "\n",
    "\n",
    "\n",
    "getCosine('man', 'boy')\n",
    "getCosine('man', 'woman')\n",
    "getCosine('man', 'king')\n",
    "getCosine('man', 'queen')\n",
    "getCosine('man', 'cloud')"
   ]
  },
  {
   "cell_type": "code",
   "execution_count": null,
   "metadata": {},
   "outputs": [],
   "source": []
  }
 ],
 "metadata": {
  "kernelspec": {
   "display_name": "Python 3",
   "language": "python",
   "name": "python3"
  },
  "language_info": {
   "codemirror_mode": {
    "name": "ipython",
    "version": 3
   },
   "file_extension": ".py",
   "mimetype": "text/x-python",
   "name": "python",
   "nbconvert_exporter": "python",
   "pygments_lexer": "ipython3",
   "version": "3.6.4"
  }
 },
 "nbformat": 4,
 "nbformat_minor": 4
}
